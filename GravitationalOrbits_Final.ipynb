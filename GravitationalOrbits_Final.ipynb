{
 "cells": [
  {
   "cell_type": "markdown",
   "metadata": {},
   "source": [
    "# Two Body Orbit\n",
    "* Published on May 01, 2020 by **Dennis H. Calderon** (*dennis.henry.calderon@gmail.com*)\n",
    "***\n",
    "\n",
    "For a system with two orbiting masses $m_1$ and $m_2$ the Lagrangian is $\\mathcal{L}=T-U$ where\n",
    "\n",
    "$\\begin{align}\n",
    " T &= \\frac{1}{2} (\\dot x_1^2 + \\dot y_1^2) + \\frac{1}{2} (\\dot x_2^2 + \\dot y_2^2) \\\\\n",
    " U &= \\frac{-G m_1 m_2}{r}\n",
    "\\end{align}$\n",
    "***\n",
    "We need to solve Lagrange's equations for $x_1, y_1, x_2,$ and $y_2$.\n",
    "\n",
    "$\\begin{align}\n",
    " \\ddot x_1 &= \\frac{-G m_1 m_2}{r_{12}^2} \\frac{x_1-x_2}{r_{12} m_1} \\\\\n",
    " \\ddot y_1 &= \\frac{-G m_1 m_2}{r_{12}^2} \\frac{y_1-y_2}{r_{12} m_1} \\\\\n",
    " \\ddot x_2 &= \\frac{-G m_1 m_2}{r_{21}^2} \\frac{x_2-x_1}{r_{21} m_2} \\\\\n",
    " \\ddot y_2 &= \\frac{-G m_1 m_2}{r_{21}^2} \\frac{y_2-y_1}{r_{21} m_2}\n",
    "\\end{align}$\n",
    "\n",
    "Where $r_{12}= r_{21} = \\sqrt{(x_1-x_2)^2+(y_1-y_2)^2}$.\n",
    "\n",
    "Now we can solve numericallky"
   ]
  },
  {
   "cell_type": "code",
   "execution_count": 18,
   "metadata": {},
   "outputs": [],
   "source": [
    "%matplotlib inline"
   ]
  },
  {
   "cell_type": "code",
   "execution_count": 19,
   "metadata": {},
   "outputs": [],
   "source": [
    "import numpy as np\n",
    "import matplotlib.pyplot as plt\n",
    "from scipy.integrate import odeint, solve_ivp"
   ]
  },
  {
   "cell_type": "code",
   "execution_count": 20,
   "metadata": {},
   "outputs": [],
   "source": [
    "class DoubleOrbit():\n",
    "    \"\"\"\n",
    "    Description\n",
    "    ======\n",
    "    We will solve Lagrangian for double oribit system\n",
    "    \n",
    "    Parameters\n",
    "    =======\n",
    "    m1 : mass of the first orbital body\n",
    "    m2 : mass of the second prbital body\n",
    "    G: gravitational constant\n",
    "\n",
    "    Methods\n",
    "    ======\n",
    "    dy_dt(t, y)\n",
    "        Returns the right side of the differential equation in vector y, \n",
    "        given time t and the corresponding value of y.\n",
    "        \n",
    "    \"\"\"\n",
    "    def __init__(self, m1, m2, G):\n",
    "        self.m1 = m1\n",
    "        self.m2 = m2\n",
    "        self.G = G\n",
    "        \n",
    "    def dy_dt(self, t, y):\n",
    "        \"\"\"\n",
    "        This function returns the right-hand side of the diffeq: \n",
    "        [dx1/dt d^2x1/dt^2 dy1/dt d^2y1/dt^2 dx2/dt d^2x2/dt^2 dy2/dt d^2y2/dt^2]\n",
    "        \n",
    "        Parameters\n",
    "        ======\n",
    "        t: time\n",
    "            \n",
    "        y: 8-component vector with y[0] = x1, y[1] = x1_dot, y[2] = y1, y[3] = y1_dot, \n",
    "            y[4] = x2, y[5] = x2_dot, y[6] = y2, y[7] = y2_dot\n",
    "            \n",
    "        \"\"\"\n",
    "        r = np.sqrt((y[0]-y[4])**2 + (y[2]-y[6])**2)\n",
    "        F = -self.G*self.m1*self.m2/r**2\n",
    "        \n",
    "        return [y[1], F*(y[0]-y[4])/(self.m1*r), y[3], F*(y[2]-y[6])/(self.m1*r), \n",
    "                y[5], F*(y[4]-y[0])/(self.m2*r), y[7], F*(y[6]-y[2])/(self.m2*r)]\n",
    "        \n",
    "    def solve_ode(self, x1_0, x1_dot_0, y1_0, y1_dot_0, x2_0, x2_dot_0, y2_0, y2_dot_0,\n",
    "                  t, abserr = 1.0e-10, relerr=1.0e-10):\n",
    "        \"\"\"\n",
    "        Solve the ODE given initial conditions.\n",
    "         \"\"\"\n",
    "        \n",
    "        y = [x1_0, x1_dot_0, y1_0, y1_dot_0, x2_0, x2_dot_0, y2_0, y2_dot_0]\n",
    "        \n",
    "        solution = solve_ivp(self.dy_dt, (t[0], t[-1]), y, t_eval=t, rtol=relerr, atol=abserr, method= 'RK23')\n",
    "                        \n",
    "        x1, x1_dot, y1, y1_dot, x2, x2_dot, y2, y2_dot = solution.y\n",
    "        \n",
    "        return x1, x1_dot, y1, y1_dot, x2, x2_dot, y2, y2_dot  \n",
    "        \n",
    "        "
   ]
  },
  {
   "cell_type": "code",
   "execution_count": 21,
   "metadata": {},
   "outputs": [],
   "source": [
    "def start_stop_indices(t_pts, plot_start, plot_stop):\n",
    "    start_index = (np.fabs(t_pts-plot_start)).argmin()  # index in t_pts array \n",
    "    stop_index = (np.fabs(t_pts-plot_stop)).argmin()  # index in t_pts array \n",
    "    return start_index, stop_index"
   ]
  },
  {
   "cell_type": "markdown",
   "metadata": {},
   "source": [
    "# Gravitational System"
   ]
  },
  {
   "cell_type": "code",
   "execution_count": 24,
   "metadata": {},
   "outputs": [],
   "source": [
    "# setup masses\n",
    "G = 1.\n",
    "m1 = 10.\n",
    "m2 = 10.\n",
    "\n",
    "# Initial conditions\n",
    "x1_0=-3.5\n",
    "x1_dot_0 = -0.5\n",
    "y1_0= 0.\n",
    "y1_dot_0 = 1.\n",
    "x2_0= 1.5\n",
    "x2_dot_0 = -(m1/m2)*x1_dot_0\n",
    "y2_0= -1.5\n",
    "y2_dot_0 = -(m1/m2)*y1_dot_0\n",
    "\n",
    "# Iinitialize orit\n",
    "DO1 = DoubleOrbit(m1=m1, m2=m2, G=G)"
   ]
  },
  {
   "cell_type": "code",
   "execution_count": 25,
   "metadata": {},
   "outputs": [],
   "source": [
    "#time\n",
    "t_start = 0.\n",
    "t_end = 100.\n",
    "delta_t = 0.0001\n",
    "\n",
    "t_pts = np.arange(t_start, t_end+delta_t, delta_t)  \n",
    "\n",
    "# find motions\n",
    "x1, x1_dot, y1, y1_dot, x2, x2_dot, y2, y2_dot = DO1.solve_ode(x1_0, x1_dot_0, y1_0, y1_dot_0, x2_0, \n",
    "                                                              x2_dot_0, y2_0, y2_dot_0, t_pts)"
   ]
  },
  {
   "cell_type": "code",
   "execution_count": 26,
   "metadata": {},
   "outputs": [
    {
     "data": {
      "image/png": "[encoded data removed]",
      "text/plain": [
       "<Figure size 576x576 with 1 Axes>"
      ]
     },
     "metadata": {
      "needs_background": "light"
     },
     "output_type": "display_data"
    }
   ],
   "source": [
    "# plot\n",
    "fig_1 = plt.figure(figsize=(8,8))\n",
    "\n",
    "overall_title = 'Double Orbit: ' + \\\n",
    "                rf' $m_1 = {DO.m1},$' + \\\n",
    "                rf' $m_2 = {DO.m2}$'\n",
    "fig_1.suptitle(overall_title, va='baseline')\n",
    "\n",
    "ax_1 = fig_1.add_subplot(1,1,1)\n",
    "ax_1.plot(x1, y1, color='red', label='m1')\n",
    "ax_1.plot(x2, y2, color='black', label='m2')\n",
    "ax_1.set_xlabel(r'$x$')\n",
    "ax_1.set_ylabel(r'$y$')\n",
    "ax_1.set_aspect('equal')\n",
    "ax_1.legend()\n",
    "\n",
    "\n",
    "fig_1.tight_layout()\n",
    "fig_1.savefig('DoubleOrbits.png', dpi = 600, bbox_inches='tight')  # always bbox_inches='tight"
   ]
  },
  {
   "cell_type": "markdown",
   "metadata": {},
   "source": [
    "we see that the two masses orbit each other in elliptiacal paths."
   ]
  },
  {
   "cell_type": "markdown",
   "metadata": {},
   "source": [
    "## Now we will have a large mass\n",
    "\n",
    "Let us have  $m_1>>m_2$."
   ]
  },
  {
   "cell_type": "code",
   "execution_count": 27,
   "metadata": {},
   "outputs": [],
   "source": [
    "# setup masses\n",
    "G = 1.\n",
    "m1 = 1000.\n",
    "m2 = 10.\n",
    "\n",
    "# Initial conditions\n",
    "x1_dot_0 = 0.002\n",
    "y1_0= 0.\n",
    "y1_dot_0 = 0.1\n",
    "x2_0= 1.5\n",
    "x2_dot_0 = -(m1/m2)*x1_dot_0\n",
    "y2_0= -2.5\n",
    "y2_dot_0 = -(m1/m2)*y1_dot_0\n",
    "\n",
    "# initialize orbit\n",
    "DO2 = DoubleOrbit(m1=m1, m2=m2, G=G)"
   ]
  },
  {
   "cell_type": "code",
   "execution_count": 28,
   "metadata": {},
   "outputs": [],
   "source": [
    "# time\n",
    "t_start = 0.\n",
    "t_end = 20.\n",
    "delta_t = 0.0001\n",
    "\n",
    "t_pts = np.arange(t_start, t_end+delta_t, delta_t) \n",
    "\n",
    "# Find the motions\n",
    "x1, x1_dot, y1, y1_dot, x2, x2_dot, y2, y2_dot = DO2.solve_ode(x1_0, x1_dot_0, y1_0, y1_dot_0, \n",
    "                              x2_0, x2_dot_0, y2_0, y2_dot_0, t_pts)"
   ]
  },
  {
   "cell_type": "code",
   "execution_count": 29,
   "metadata": {},
   "outputs": [
    {
     "data": {
      "image/png": "[encoded data removed]",
      "text/plain": [
       "<Figure size 576x576 with 1 Axes>"
      ]
     },
     "metadata": {
      "needs_background": "light"
     },
     "output_type": "display_data"
    }
   ],
   "source": [
    "# Plot \n",
    "fig_2 = plt.figure(figsize=(8,8))\n",
    "\n",
    "overall_title = 'Double Orbit: ' + \\\n",
    "                rf' $m_1 = {DO2.m1},$' + \\\n",
    "                rf' $m_2 = {DO2.m2}$'\n",
    "fig_2.suptitle(overall_title, va='baseline')\n",
    "\n",
    "start, stop = start_stop_indices(t_pts, 0., 20.) \n",
    "ax_2 = fig_2.add_subplot(1,1,1)\n",
    "ax_2.plot(x1[start: stop], y1[start: stop], color='red', label='m1')\n",
    "ax_2.plot(x2[start: stop], y2[start: stop], color='black', label='m2')\n",
    "ax_2.set_xlabel(r'$x$')\n",
    "ax_2.set_ylabel(r'$y$')\n",
    "ax_2.set_aspect('equal')\n",
    "ax_2.legend()\n",
    "\n",
    "\n",
    "fig_2.tight_layout()\n",
    "fig_2.savefig('DoubleOrbits_Large_m1.png', dpi = 600, bbox_inches='tight')"
   ]
  },
  {
   "cell_type": "markdown",
   "metadata": {},
   "source": [
    "We can see that $m_1$ stays pretty much stationary. This is what we expect for \n",
    "am $m_1>>m_2$"
   ]
  },
  {
   "cell_type": "code",
   "execution_count": null,
   "metadata": {},
   "outputs": [],
   "source": []
  }
 ],
 "metadata": {
  "kernelspec": {
   "display_name": "Python 3",
   "language": "python",
   "name": "python3"
  },
  "language_info": {
   "codemirror_mode": {
    "name": "ipython",
    "version": 3
   },
   "file_extension": ".py",
   "mimetype": "text/x-python",
   "name": "python",
   "nbconvert_exporter": "python",
   "pygments_lexer": "ipython3",
   "version": "3.7.6"
  }
 },
 "nbformat": 4,
 "nbformat_minor": 4
}
